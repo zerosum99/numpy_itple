{
 "cells": [
  {
   "cell_type": "markdown",
   "metadata": {
    "collapsed": true,
    "pycharm": {
     "name": "#%% md\n"
    }
   },
   "source": [
    "1. 넘파이 로그 베이스를 자연로그가 아닌 다른 수로 하고 싶을 경우, 표현식의 예를 들어라."
   ]
  },
  {
   "cell_type": "code",
   "source": [
    "import numpy as np\n",
    "\n",
    "# 로그 밑이 3인 지수 1에서 10까지의 10개 원소 출력하기, 닝겐이 알아보기 쉽게 정수형으로\n",
    "x = np.logspace(1, 10, base = 3, num = 10, dtype=int)\n",
    "print(x)"
   ],
   "metadata": {
    "collapsed": false,
    "pycharm": {
     "name": "#%%\n"
    }
   },
   "execution_count": 9,
   "outputs": [
    {
     "name": "stdout",
     "output_type": "stream",
     "text": [
      "[    3     9    27    81   243   729  2187  6561 19683 59049]\n"
     ]
    }
   ]
  },
  {
   "cell_type": "markdown",
   "source": [
    "2.  행렬의 종류 14개 이상 적어라.\n",
    "> 단위행렬, 영행렬, 정방행렬, 대각행렬, 삼각행렬, 항등행렬, 전치행렬, 직교행렬, 대칭행렬, 비대징행렬, 계수행렬, 첨가행렬, 스칼라행렬, 삼각행렬, 치환행\n",
    ">[참고링크](http://www.ktword.co.kr/abbr_view.php?m_temp1=4646)\n",
    "\n",
    "3. 행렬 방정식이란?\n",
    "> 연립방정식을 선형대수의 형태로 치환하여 해를 구하는 법??\n",
    "> 답을 모르겠습니다.ㅜㅜ"
   ],
   "metadata": {
    "collapsed": false,
    "pycharm": {
     "name": "#%% md\n"
    }
   }
  }
 ],
 "metadata": {
  "kernelspec": {
   "display_name": "Python 3",
   "language": "python",
   "name": "python3"
  },
  "language_info": {
   "codemirror_mode": {
    "name": "ipython",
    "version": 2
   },
   "file_extension": ".py",
   "mimetype": "text/x-python",
   "name": "python",
   "nbconvert_exporter": "python",
   "pygments_lexer": "ipython2",
   "version": "2.7.6"
  }
 },
 "nbformat": 4,
 "nbformat_minor": 0
}