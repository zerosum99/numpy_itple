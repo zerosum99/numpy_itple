{
 "cells": [
  {
   "cell_type": "code",
   "execution_count": 5,
   "metadata": {},
   "outputs": [
    {
     "data": {
      "text/plain": [
       "'1.19.2'"
      ]
     },
     "execution_count": 5,
     "metadata": {},
     "output_type": "execute_result"
    }
   ],
   "source": [
    "import numpy as np\n",
    "np.__version__"
   ]
  },
  {
   "cell_type": "markdown",
   "metadata": {},
   "source": [
    "# Chapter 12. 선형대수 알아보기  \n",
    "> 수학의 소인수분해처럼 선형대수의 행렬도 여러 분해가 가능합니다. 하나의 행렬을 분해하는 여러가지 함수들을 알아봅시다.\n",
    "[넘파이 선형대수 참고](https://rfriend.tistory.com/380)"
   ]
  },
  {
   "cell_type": "markdown",
   "metadata": {},
   "source": [
    "## 01. LU, QR 분해 \n",
    "### 01-1. LU 분해  \n",
    "LU 분해는 정사각형행렬 A를 하삼각행렬(Lower triangular matrix)과 상삼각행렬(Upper triangular matrix)의 곱으로 표현하는 분해입니다. 여기서 치환행렬(Permutation matrix)도 함께 곱으로 나타내기도 합니다.즉, A=LU\n"
   ]
  },
  {
   "cell_type": "code",
   "execution_count": 6,
   "metadata": {},
   "outputs": [],
   "source": [
    "import scipy as sp\n",
    "from scipy import linalg as LA"
   ]
  },
  {
   "cell_type": "code",
   "execution_count": 7,
   "metadata": {},
   "outputs": [
    {
     "data": {
      "text/plain": [
       "array([[ 7,  3, -1,  2],\n",
       "       [ 3,  8,  1, -4],\n",
       "       [-1,  1,  4, -1],\n",
       "       [ 2, -4, -1,  6]])"
      ]
     },
     "execution_count": 7,
     "metadata": {},
     "output_type": "execute_result"
    }
   ],
   "source": [
    "A = np.array([[7,3,-1,2], [3,8,1,-4], [-1,1,4,-1], [2,-4,-1,6]])\n",
    "A"
   ]
  },
  {
   "cell_type": "code",
   "execution_count": 11,
   "metadata": {},
   "outputs": [
    {
     "data": {
      "text/plain": [
       "array([[1., 0., 0., 0.],\n",
       "       [0., 1., 0., 0.],\n",
       "       [0., 0., 1., 0.],\n",
       "       [0., 0., 0., 1.]])"
      ]
     },
     "execution_count": 11,
     "metadata": {},
     "output_type": "execute_result"
    }
   ],
   "source": [
    "P, L, U = LA.lu(A)  # LU 분해를 lu 함수로 실행\n",
    "P"
   ]
  },
  {
   "cell_type": "code",
   "execution_count": 9,
   "metadata": {},
   "outputs": [
    {
     "data": {
      "text/plain": [
       "array([[ 1.        ,  0.        ,  0.        ,  0.        ],\n",
       "       [ 0.42857143,  1.        ,  0.        ,  0.        ],\n",
       "       [-0.14285714,  0.21276596,  1.        ,  0.        ],\n",
       "       [ 0.28571429, -0.72340426,  0.08982036,  1.        ]])"
      ]
     },
     "execution_count": 9,
     "metadata": {},
     "output_type": "execute_result"
    }
   ],
   "source": [
    "L"
   ]
  },
  {
   "cell_type": "code",
   "execution_count": 10,
   "metadata": {
    "scrolled": true
   },
   "outputs": [
    {
     "data": {
      "text/plain": [
       "array([[ 7.        ,  3.        , -1.        ,  2.        ],\n",
       "       [ 0.        ,  6.71428571,  1.42857143, -4.85714286],\n",
       "       [ 0.        ,  0.        ,  3.55319149,  0.31914894],\n",
       "       [ 0.        ,  0.        ,  0.        ,  1.88622754]])"
      ]
     },
     "execution_count": 10,
     "metadata": {},
     "output_type": "execute_result"
    }
   ],
   "source": [
    "U"
   ]
  },
  {
   "cell_type": "markdown",
   "metadata": {},
   "source": [
    "### 역행렬이 존재하는 조건 : det(A) ≠ 0   \n",
    "[행렬식 계산 참고](http://blog.naver.com/PostView.nhn?blogId=mykepzzang&logNo=221080004072)  \n",
    "<img src=\"https://t1.daumcdn.net/cfile/tistory/255D184E565C6C403D\" align='left'>"
   ]
  },
  {
   "cell_type": "code",
   "execution_count": 15,
   "metadata": {},
   "outputs": [
    {
     "data": {
      "text/plain": [
       "1.0"
      ]
     },
     "execution_count": 15,
     "metadata": {},
     "output_type": "execute_result"
    }
   ],
   "source": [
    "a = LA.det(L)\n",
    "a"
   ]
  },
  {
   "cell_type": "code",
   "execution_count": 18,
   "metadata": {},
   "outputs": [
    {
     "data": {
      "text/plain": [
       "315.0000000000001"
      ]
     },
     "execution_count": 18,
     "metadata": {},
     "output_type": "execute_result"
    }
   ],
   "source": [
    "b = LA.det(U)\n",
    "b"
   ]
  },
  {
   "cell_type": "code",
   "execution_count": 19,
   "metadata": {},
   "outputs": [
    {
     "data": {
      "text/plain": [
       "315.0000000000001"
      ]
     },
     "execution_count": 19,
     "metadata": {},
     "output_type": "execute_result"
    }
   ],
   "source": [
    "np.dot(a, b)"
   ]
  },
  {
   "cell_type": "code",
   "execution_count": 20,
   "metadata": {},
   "outputs": [
    {
     "data": {
      "text/plain": [
       "315.0000000000001"
      ]
     },
     "execution_count": 20,
     "metadata": {},
     "output_type": "execute_result"
    }
   ],
   "source": [
    "LA.det(A)"
   ]
  },
  {
   "cell_type": "code",
   "execution_count": 17,
   "metadata": {},
   "outputs": [
    {
     "data": {
      "text/plain": [
       "array([[ 7.,  3., -1.,  2.],\n",
       "       [ 3.,  8.,  1., -4.],\n",
       "       [-1.,  1.,  4., -1.],\n",
       "       [ 2., -4., -1.,  6.]])"
      ]
     },
     "execution_count": 17,
     "metadata": {},
     "output_type": "execute_result"
    }
   ],
   "source": [
    "np.dot(L, U)"
   ]
  },
  {
   "cell_type": "markdown",
   "metadata": {},
   "source": [
    "### 01-2. LU 분해와 연립방정식 풀기"
   ]
  },
  {
   "cell_type": "code",
   "execution_count": 21,
   "metadata": {},
   "outputs": [
    {
     "data": {
      "text/plain": [
       "array([[ 7.        ,  5.        ,  6.        ,  6.        ],\n",
       "       [ 0.28571429,  3.57142857,  6.28571429,  5.28571429],\n",
       "       [ 0.71428571,  0.12      , -1.04      ,  3.08      ],\n",
       "       [ 0.71428571, -0.44      , -0.46153846,  7.46153846]])"
      ]
     },
     "execution_count": 21,
     "metadata": {},
     "output_type": "execute_result"
    }
   ],
   "source": [
    "A = np.array([[2,5,8,7], [5,2,2,8], [7,5,6,6], [5,4,4,8]])\n",
    "lu, piv = LA.lu_factor(A)\n",
    "lu"
   ]
  },
  {
   "cell_type": "code",
   "execution_count": 22,
   "metadata": {},
   "outputs": [
    {
     "data": {
      "text/plain": [
       "array([2, 2, 3, 3], dtype=int32)"
      ]
     },
     "execution_count": 22,
     "metadata": {},
     "output_type": "execute_result"
    }
   ],
   "source": [
    "piv"
   ]
  },
  {
   "cell_type": "code",
   "execution_count": 23,
   "metadata": {},
   "outputs": [
    {
     "data": {
      "text/plain": [
       "array([[ 1.        ,  0.        ,  0.        ,  0.        ],\n",
       "       [ 0.28571429,  1.        ,  0.        ,  0.        ],\n",
       "       [ 0.71428571,  0.12      ,  1.        ,  0.        ],\n",
       "       [ 0.71428571, -0.44      , -0.46153846,  1.        ]])"
      ]
     },
     "execution_count": 23,
     "metadata": {},
     "output_type": "execute_result"
    }
   ],
   "source": [
    "P, L, U = LA.lu(A)\n",
    "L"
   ]
  },
  {
   "cell_type": "code",
   "execution_count": 24,
   "metadata": {},
   "outputs": [
    {
     "data": {
      "text/plain": [
       "array([[ 7.        ,  5.        ,  6.        ,  6.        ],\n",
       "       [ 0.        ,  3.57142857,  6.28571429,  5.28571429],\n",
       "       [ 0.        ,  0.        , -1.04      ,  3.08      ],\n",
       "       [ 0.        ,  0.        ,  0.        ,  7.46153846]])"
      ]
     },
     "execution_count": 24,
     "metadata": {},
     "output_type": "execute_result"
    }
   ],
   "source": [
    "U"
   ]
  },
  {
   "cell_type": "code",
   "execution_count": 27,
   "metadata": {},
   "outputs": [
    {
     "data": {
      "text/plain": [
       "array([ 0.05154639, -0.08247423,  0.08247423,  0.09278351])"
      ]
     },
     "execution_count": 27,
     "metadata": {},
     "output_type": "execute_result"
    }
   ],
   "source": [
    "A = np.array([[2,5,8,7], [5,2,2,8], [7,5,6,6], [5,4,4,8]])\n",
    "b = np.array([1,1,1,1])\n",
    "lu, piv = LA.lu_factor(A)\n",
    "x = LA.lu_solve((lu, piv), b)\n",
    "x"
   ]
  },
  {
   "cell_type": "code",
   "execution_count": 28,
   "metadata": {},
   "outputs": [
    {
     "data": {
      "text/plain": [
       "True"
      ]
     },
     "execution_count": 28,
     "metadata": {},
     "output_type": "execute_result"
    }
   ],
   "source": [
    "np.allclose(A @ x - b, np.zeros((4,)))"
   ]
  },
  {
   "cell_type": "code",
   "execution_count": 29,
   "metadata": {},
   "outputs": [
    {
     "data": {
      "text/plain": [
       "array([ 0.05154639, -0.08247423,  0.08247423,  0.09278351])"
      ]
     },
     "execution_count": 29,
     "metadata": {},
     "output_type": "execute_result"
    }
   ],
   "source": [
    "x_ = np.linalg.solve(A, b)\n",
    "x_"
   ]
  },
  {
   "cell_type": "code",
   "execution_count": 30,
   "metadata": {},
   "outputs": [
    {
     "data": {
      "text/plain": [
       "array([ 0.05154639, -0.08247423,  0.08247423,  0.09278351])"
      ]
     },
     "execution_count": 30,
     "metadata": {},
     "output_type": "execute_result"
    }
   ],
   "source": [
    "np.dot(np.linalg.inv(A), b)"
   ]
  },
  {
   "cell_type": "code",
   "execution_count": 31,
   "metadata": {},
   "outputs": [
    {
     "data": {
      "text/plain": [
       "array([1., 1., 1., 1.])"
      ]
     },
     "execution_count": 31,
     "metadata": {},
     "output_type": "execute_result"
    }
   ],
   "source": [
    "np.dot(A, x_)"
   ]
  },
  {
   "cell_type": "code",
   "execution_count": 32,
   "metadata": {},
   "outputs": [
    {
     "data": {
      "text/plain": [
       "array([1., 1., 1., 1.])"
      ]
     },
     "execution_count": 32,
     "metadata": {},
     "output_type": "execute_result"
    }
   ],
   "source": [
    "A @ x"
   ]
  },
  {
   "cell_type": "markdown",
   "metadata": {},
   "source": [
    "### 01-2. QR 분해  \n",
    "QR 분해(QR decomposition or QR factorization)는 임의의 행렬을 직교행렬과 상삼각행렬의 곱으로 분해합니다. 즉, 행렬 A를 QR로 인수분해합니다. 여기서 Q는 직교 좌표이고 R은 상삼각행렬 입니다. "
   ]
  },
  {
   "cell_type": "code",
   "execution_count": 33,
   "metadata": {},
   "outputs": [
    {
     "data": {
      "text/plain": [
       "array([[ 12, -51,   4],\n",
       "       [  6, 167, -68],\n",
       "       [ -4,  24, -41]])"
      ]
     },
     "execution_count": 33,
     "metadata": {},
     "output_type": "execute_result"
    }
   ],
   "source": [
    "A = np.array([[12,-51,4], [6,167,-68], [-4,24,-41]])\n",
    "A"
   ]
  },
  {
   "cell_type": "code",
   "execution_count": 34,
   "metadata": {},
   "outputs": [
    {
     "data": {
      "text/plain": [
       "array([[ -14.,  -21.,   14.],\n",
       "       [   0., -175.,   70.],\n",
       "       [   0.,    0.,  -35.]])"
      ]
     },
     "execution_count": 34,
     "metadata": {},
     "output_type": "execute_result"
    }
   ],
   "source": [
    "Q, R = LA.qr(A)\n",
    "R"
   ]
  },
  {
   "cell_type": "code",
   "execution_count": 35,
   "metadata": {},
   "outputs": [
    {
     "data": {
      "text/plain": [
       "array([[-0.85714286,  0.39428571,  0.33142857],\n",
       "       [-0.42857143, -0.90285714, -0.03428571],\n",
       "       [ 0.28571429, -0.17142857,  0.94285714]])"
      ]
     },
     "execution_count": 35,
     "metadata": {},
     "output_type": "execute_result"
    }
   ],
   "source": [
    "Q"
   ]
  },
  {
   "cell_type": "code",
   "execution_count": 36,
   "metadata": {},
   "outputs": [
    {
     "data": {
      "text/plain": [
       "array([[ 1.00000000e+00,  9.70056801e-17, -2.53402741e-17],\n",
       "       [ 9.70056801e-17,  1.00000000e+00, -2.88873234e-17],\n",
       "       [-2.53402741e-17, -2.88873234e-17,  1.00000000e+00]])"
      ]
     },
     "execution_count": 36,
     "metadata": {},
     "output_type": "execute_result"
    }
   ],
   "source": [
    "i = np.dot(Q, Q.T)\n",
    "i"
   ]
  },
  {
   "cell_type": "code",
   "execution_count": 37,
   "metadata": {},
   "outputs": [
    {
     "data": {
      "text/plain": [
       "True"
      ]
     },
     "execution_count": 37,
     "metadata": {},
     "output_type": "execute_result"
    }
   ],
   "source": [
    "I = np.eye(A.shape[0])\n",
    "np.allclose(i, I)"
   ]
  },
  {
   "cell_type": "code",
   "execution_count": 41,
   "metadata": {},
   "outputs": [
    {
     "data": {
      "text/plain": [
       "0.9999999999999999"
      ]
     },
     "execution_count": 41,
     "metadata": {},
     "output_type": "execute_result"
    }
   ],
   "source": [
    "sq = np.fabs(LA.det(Q))\n",
    "# sq = np.fabs(LA.linalg.det(Q)) 교재 본문에 오류가 있음.\n",
    "sq"
   ]
  },
  {
   "cell_type": "code",
   "execution_count": 42,
   "metadata": {},
   "outputs": [
    {
     "data": {
      "text/plain": [
       "True"
      ]
     },
     "execution_count": 42,
     "metadata": {},
     "output_type": "execute_result"
    }
   ],
   "source": [
    "np.allclose(sq, 1)"
   ]
  },
  {
   "cell_type": "code",
   "execution_count": 43,
   "metadata": {},
   "outputs": [
    {
     "data": {
      "text/plain": [
       "True"
      ]
     },
     "execution_count": 43,
     "metadata": {},
     "output_type": "execute_result"
    }
   ],
   "source": [
    "qt = LA.inv(Q)\n",
    "np.allclose(Q.T, qt)"
   ]
  },
  {
   "cell_type": "markdown",
   "metadata": {},
   "source": [
    "## 02. 고유값, 특이값 분해  \n",
    "행렬을 하나의 벡터로 분리 또는 여러개의 행렬로 분해하는 고유값 분해와 3개의 행렬로 분해하는 특이값 분해가 있습니다.   \n",
    "고유값은 주로 정사각형 행렬에 대한 분에에 사용되며, 차원의 다른 행렬일 때는 특이값 분해를 사용합니다.   \n",
    "### 02-1. 고유값과 고유벡터  \n",
    "고유값 분해(eigen decomposition)는 고유값(eigen value)과 고유벡터(eigen vector)로 유도되는 고유값 행렬과 고유벡터 행렬에 의해 분해 될 수 있는 행렬의 표현입니다.  \n",
    "고유값과 고유벡터는 정사각행렬일 때문 분해가 가능합니다. "
   ]
  },
  {
   "cell_type": "code",
   "execution_count": 68,
   "metadata": {},
   "outputs": [],
   "source": [
    "A = np.array([[3,0], [8,-1]])\n",
    "x = np.array([1,2])"
   ]
  },
  {
   "cell_type": "markdown",
   "metadata": {},
   "source": [
    "고유값을 구하는 산식은 단위행렬에 특정 상수를 곱하고 이를 행렬에 뺀 후에 행렬식을 구하면 0이 나오면 이 상수 값이 고유값이 됩니다. \n",
    "<img src=\"https://i.ibb.co/MMz1b5g/2020-12-01-11-54-21.png\" align='left'>"
   ]
  },
  {
   "cell_type": "code",
   "execution_count": 49,
   "metadata": {},
   "outputs": [
    {
     "data": {
      "text/plain": [
       "array([[1., 0.],\n",
       "       [0., 1.]])"
      ]
     },
     "execution_count": 49,
     "metadata": {},
     "output_type": "execute_result"
    }
   ],
   "source": [
    "E = np.eye(2) # 단위행렬을 eye함수로 하나 만듭니다.\n",
    "E"
   ]
  },
  {
   "cell_type": "markdown",
   "metadata": {},
   "source": [
    "<img src=\"https://i.ibb.co/8MN5VK1/IMG-1291.jpg\" align='left'>"
   ]
  },
  {
   "cell_type": "code",
   "execution_count": 50,
   "metadata": {},
   "outputs": [
    {
     "data": {
      "text/plain": [
       "0.0"
      ]
     },
     "execution_count": 50,
     "metadata": {},
     "output_type": "execute_result"
    }
   ],
   "source": [
    "LA.det(A - 3*E) # 단위행렬에 3을 곱한 후에 행렬 A에 빽 det 함수로 행렬식을 구하면 0이 나와서 이 상수가 고유값입니다."
   ]
  },
  {
   "cell_type": "code",
   "execution_count": 72,
   "metadata": {},
   "outputs": [
    {
     "data": {
      "text/plain": [
       "0.0"
      ]
     },
     "execution_count": 72,
     "metadata": {},
     "output_type": "execute_result"
    }
   ],
   "source": [
    "LA.det(A - -1*E)"
   ]
  },
  {
   "cell_type": "markdown",
   "metadata": {},
   "source": [
    "고유값과 고유벡터를 구하는 수학적 산식은 아래와 같습니다. 하나의 행렬과 벡터를 행렬곱으로 계산한 것이 상수에 벡터를 곱한 결과와 동일합니다.  \n",
    "<img src=\"https://i.ibb.co/gtJVtjH/2020-12-01-12-05-27.png\" align=\"left\">"
   ]
  },
  {
   "cell_type": "code",
   "execution_count": 51,
   "metadata": {},
   "outputs": [
    {
     "data": {
      "text/plain": [
       "array([3, 6])"
      ]
     },
     "execution_count": 51,
     "metadata": {},
     "output_type": "execute_result"
    }
   ],
   "source": [
    "c = np.dot(A, x)\n",
    "c"
   ]
  },
  {
   "cell_type": "code",
   "execution_count": 52,
   "metadata": {},
   "outputs": [
    {
     "data": {
      "text/plain": [
       "array([3, 6])"
      ]
     },
     "execution_count": 52,
     "metadata": {},
     "output_type": "execute_result"
    }
   ],
   "source": [
    "3*x"
   ]
  },
  {
   "cell_type": "markdown",
   "metadata": {},
   "source": [
    "### 넘파이 모듈을 사용해서 행렬의 고유값과 고유벡터를 구해보자.   \n",
    "LA.eig 함수에 인자로 전달해서 실행하면 끝! 반환되는 결과가 고유값과 고유벡터  \n",
    "단, 고유값의 결과가 1차원 배열로 나오는 것은 이 행렬의 고유값이 2개가 있다는 뜻이고 단위벡터도 2차원 배열로 나온것은 두 개의 단위벡터가 있다는 뜻"
   ]
  },
  {
   "cell_type": "code",
   "execution_count": 66,
   "metadata": {},
   "outputs": [
    {
     "data": {
      "text/plain": [
       "array([ 4.+0.j, -2.+0.j])"
      ]
     },
     "execution_count": 66,
     "metadata": {},
     "output_type": "execute_result"
    }
   ],
   "source": [
    "B = np.array([[1,3], [3,1]])\n",
    "v, w = LA.eig(B)\n",
    "v"
   ]
  },
  {
   "cell_type": "code",
   "execution_count": 57,
   "metadata": {},
   "outputs": [
    {
     "data": {
      "text/plain": [
       "array([[ 0.70710678, -0.70710678],\n",
       "       [ 0.70710678,  0.70710678]])"
      ]
     },
     "execution_count": 57,
     "metadata": {},
     "output_type": "execute_result"
    }
   ],
   "source": [
    "w"
   ]
  },
  {
   "cell_type": "markdown",
   "metadata": {},
   "source": [
    " 첫번째 예제 처럼 산식으로 검증해보자."
   ]
  },
  {
   "cell_type": "code",
   "execution_count": 69,
   "metadata": {},
   "outputs": [
    {
     "data": {
      "text/plain": [
       "array([[1., 0.],\n",
       "       [0., 1.]])"
      ]
     },
     "execution_count": 69,
     "metadata": {},
     "output_type": "execute_result"
    }
   ],
   "source": [
    "E = np.eye(2, 2)\n",
    "E"
   ]
  },
  {
   "cell_type": "code",
   "execution_count": 71,
   "metadata": {},
   "outputs": [
    {
     "data": {
      "text/plain": [
       "0.0"
      ]
     },
     "execution_count": 71,
     "metadata": {},
     "output_type": "execute_result"
    }
   ],
   "source": [
    "LA.det(B - (4*E))"
   ]
  },
  {
   "cell_type": "code",
   "execution_count": 73,
   "metadata": {},
   "outputs": [
    {
     "data": {
      "text/plain": [
       "0.0"
      ]
     },
     "execution_count": 73,
     "metadata": {},
     "output_type": "execute_result"
    }
   ],
   "source": [
    "LA.det(B - (-2*E))"
   ]
  },
  {
   "cell_type": "markdown",
   "metadata": {},
   "source": [
    "### 3개의 행렬로 분해한 처리  \n",
    "하나의 정사각행렬을 분해하면 고유벡터의 행렬과 고유값을 단위벡터에 행렬곱한 행렬 고유벡터의 행렬의 전치행렬을 가지고 행렬곱을 한 결과가 분해하기 전에 행렬이다.   \n",
    "<img src=\"https://i.ibb.co/Nxqgzzg/2020-12-01-1-44-18.png\" align='left'>"
   ]
  },
  {
   "cell_type": "code",
   "execution_count": 74,
   "metadata": {},
   "outputs": [
    {
     "data": {
      "text/plain": [
       "array([[4, 3],\n",
       "       [3, 5]])"
      ]
     },
     "execution_count": 74,
     "metadata": {},
     "output_type": "execute_result"
    }
   ],
   "source": [
    "C = np.array([[4,3], [3,5]])\n",
    "C"
   ]
  },
  {
   "cell_type": "code",
   "execution_count": 75,
   "metadata": {},
   "outputs": [
    {
     "data": {
      "text/plain": [
       "array([1.45861873+0.j, 7.54138127+0.j])"
      ]
     },
     "execution_count": 75,
     "metadata": {},
     "output_type": "execute_result"
    }
   ],
   "source": [
    "e, ev = LA.eig(C) # 고유값과 고유벡터를 eig 함수로 계산\n",
    "e"
   ]
  },
  {
   "cell_type": "code",
   "execution_count": 76,
   "metadata": {},
   "outputs": [
    {
     "data": {
      "text/plain": [
       "array([[-0.76301998, -0.6463749 ],\n",
       "       [ 0.6463749 , -0.76301998]])"
      ]
     },
     "execution_count": 76,
     "metadata": {},
     "output_type": "execute_result"
    }
   ],
   "source": [
    "ev"
   ]
  },
  {
   "cell_type": "code",
   "execution_count": 77,
   "metadata": {},
   "outputs": [
    {
     "data": {
      "text/plain": [
       "array([[1.45861873+0.j, 0.        +0.j],\n",
       "       [0.        +0.j, 7.54138127+0.j]])"
      ]
     },
     "execution_count": 77,
     "metadata": {},
     "output_type": "execute_result"
    }
   ],
   "source": [
    "# 앞의 예에서 만들어진 단위벡터를 사용해서 고유값과 곱셈해서 2차원 행렬로 변환\n",
    "e_ = e * E\n",
    "e_"
   ]
  },
  {
   "cell_type": "code",
   "execution_count": 80,
   "metadata": {},
   "outputs": [
    {
     "data": {
      "text/plain": [
       "array([[4.+0.j, 3.+0.j],\n",
       "       [3.+0.j, 5.+0.j]])"
      ]
     },
     "execution_count": 80,
     "metadata": {},
     "output_type": "execute_result"
    }
   ],
   "source": [
    "# 3개의 행렬을 가지고 행렬곱을 해서 계산하면 원 행렬이 나옴. \n",
    "C_ = np.dot(np.dot(ev, e_), ev.T)\n",
    "C_"
   ]
  },
  {
   "cell_type": "code",
   "execution_count": 82,
   "metadata": {},
   "outputs": [
    {
     "data": {
      "text/plain": [
       "True"
      ]
     },
     "execution_count": 82,
     "metadata": {},
     "output_type": "execute_result"
    }
   ],
   "source": [
    "np.allclose(C_, C) # allclose 함수로 동일한지 확인"
   ]
  },
  {
   "cell_type": "markdown",
   "metadata": {},
   "source": [
    "## 2.2 SVD 분해  \n",
    "특이값 분해(Singular Value Decomposition, SVD)는 고유값 분해처럼 행렬을 대각화 해서 분해하는 방식입니다.   \n",
    "고유값 분해는 정사각행렬일 때만 분해가 가능하지만, 특이값 분해는 정사각행렬이 아닐 경우에도 분해가 가능합니다.   \n",
    "또한 이 행렬이 분해 할 때 구해진 특이값의 개수가 행렬의 랭크를 의미하기도 합니다.  \n",
    "<img src=\"https://i.ibb.co/tcz4x4s/2020-12-01-1-59-30.png\" align='left'>"
   ]
  },
  {
   "cell_type": "code",
   "execution_count": 83,
   "metadata": {},
   "outputs": [
    {
     "data": {
      "text/plain": [
       "array([[-0.22975292, -0.97324899],\n",
       "       [-0.97324899,  0.22975292]])"
      ]
     },
     "execution_count": 83,
     "metadata": {},
     "output_type": "execute_result"
    }
   ],
   "source": [
    "A = np.array([[1,0], [1,2]])\n",
    "U, S, V = np.linalg.svd(A, full_matrices=True) # 분해하는 3개의 행렬을 모두 반환\n",
    "U"
   ]
  },
  {
   "cell_type": "code",
   "execution_count": 84,
   "metadata": {},
   "outputs": [
    {
     "data": {
      "text/plain": [
       "array([2.28824561, 0.87403205])"
      ]
     },
     "execution_count": 84,
     "metadata": {},
     "output_type": "execute_result"
    }
   ],
   "source": [
    "S"
   ]
  },
  {
   "cell_type": "code",
   "execution_count": 85,
   "metadata": {},
   "outputs": [
    {
     "data": {
      "text/plain": [
       "array([[-0.52573111, -0.85065081],\n",
       "       [-0.85065081,  0.52573111]])"
      ]
     },
     "execution_count": 85,
     "metadata": {},
     "output_type": "execute_result"
    }
   ],
   "source": [
    "V"
   ]
  },
  {
   "cell_type": "markdown",
   "metadata": {},
   "source": [
    "보통 3개의 행렬을 확인하면 두개의 특이값 벡터와 하나의 특이값인 것을 알수 있습니다.  \n",
    "<img src=\"https://i.ibb.co/n3RhfCC/2020-12-01-1-55-48.png\" align='left'>"
   ]
  },
  {
   "cell_type": "markdown",
   "metadata": {},
   "source": [
    "### 다시 분해된 것을 행렬곱으로 계산해서 원 행렬이 나오는지 알아보자."
   ]
  },
  {
   "cell_type": "code",
   "execution_count": 88,
   "metadata": {},
   "outputs": [
    {
     "data": {
      "text/plain": [
       "array([[ 1.00000000e+00, -6.10622664e-16],\n",
       "       [ 1.00000000e+00,  2.00000000e+00]])"
      ]
     },
     "execution_count": 88,
     "metadata": {},
     "output_type": "execute_result"
    }
   ],
   "source": [
    "# 특이값이 하나의 벡터이므로 이 특이값을 대각행렬로 변형, 대각행렬 하나 만들어 특이값 벡터와 곱을 통해 변환하자.\n",
    "E = np.eye(2)\n",
    "SE = S * E \n",
    "\n",
    "# 위에서 만들어진 직교행렬과 행렬곱을 구하자.\n",
    "np.dot(U, np.dot(SE, V))"
   ]
  },
  {
   "cell_type": "code",
   "execution_count": 89,
   "metadata": {},
   "outputs": [
    {
     "data": {
      "text/plain": [
       "True"
      ]
     },
     "execution_count": 89,
     "metadata": {},
     "output_type": "execute_result"
    }
   ],
   "source": [
    "# np.allclose 함수로 동일한지 확인\n",
    "np.allclose(A, np.dot(U, np.dot(SE, V)))"
   ]
  },
  {
   "cell_type": "code",
   "execution_count": 91,
   "metadata": {},
   "outputs": [
    {
     "data": {
      "text/plain": [
       "array([[-0.1404708 ,  0.75576256, -0.63960215],\n",
       "       [-0.44811108, -0.6245843 , -0.63960215],\n",
       "       [-0.88287282,  0.19676738,  0.42640143]])"
      ]
     },
     "execution_count": 91,
     "metadata": {},
     "output_type": "execute_result"
    }
   ],
   "source": [
    "# 3행 2열의 배열을 만들고 이 행렬을 특이값 분해\n",
    "B = np.array([[1,0], [1,2], [3,3]])\n",
    "U_, S_, V_ = np.linalg.svd(B, full_matrices=True)\n",
    "U_"
   ]
  },
  {
   "cell_type": "code",
   "execution_count": 92,
   "metadata": {},
   "outputs": [
    {
     "data": {
      "text/plain": [
       "array([4.80055841, 0.97705628])"
      ]
     },
     "execution_count": 92,
     "metadata": {},
     "output_type": "execute_result"
    }
   ],
   "source": [
    "S_"
   ]
  },
  {
   "cell_type": "code",
   "execution_count": 93,
   "metadata": {},
   "outputs": [
    {
     "data": {
      "text/plain": [
       "array([[-0.67433829, -0.73842256],\n",
       "       [ 0.73842256, -0.67433829]])"
      ]
     },
     "execution_count": 93,
     "metadata": {},
     "output_type": "execute_result"
    }
   ],
   "source": [
    "V_"
   ]
  },
  {
   "cell_type": "code",
   "execution_count": 94,
   "metadata": {},
   "outputs": [
    {
     "data": {
      "text/plain": [
       "array([[4.80055841, 0.        ],\n",
       "       [0.        , 0.97705628],\n",
       "       [0.        , 0.        ]])"
      ]
     },
     "execution_count": 94,
     "metadata": {},
     "output_type": "execute_result"
    }
   ],
   "source": [
    "# 특이값을 대각행렬로 바꾸려고 할 때 정사각행렬이 아니므로 대각 행렬도 3행 2열에 맞춘 대각선을 반영\n",
    "E3 = np.eye(3)[:, :2]\n",
    "SE3 = S_ * E3\n",
    "SE3"
   ]
  },
  {
   "cell_type": "code",
   "execution_count": 95,
   "metadata": {},
   "outputs": [
    {
     "data": {
      "text/plain": [
       "array([[ 1.00000000e+00, -5.55111512e-16],\n",
       "       [ 1.00000000e+00,  2.00000000e+00],\n",
       "       [ 3.00000000e+00,  3.00000000e+00]])"
      ]
     },
     "execution_count": 95,
     "metadata": {},
     "output_type": "execute_result"
    }
   ],
   "source": [
    "# 행렬 곱을 통해 원행렬을 만들자.\n",
    "np.dot(U_, np.dot(SE3, V_))"
   ]
  },
  {
   "cell_type": "code",
   "execution_count": 96,
   "metadata": {},
   "outputs": [
    {
     "data": {
      "text/plain": [
       "True"
      ]
     },
     "execution_count": 96,
     "metadata": {},
     "output_type": "execute_result"
    }
   ],
   "source": [
    "# np.allclose 함수로 동일한지 확인\n",
    "np.allclose(A, np.dot(U, np.dot(SE, V)))"
   ]
  }
 ],
 "metadata": {
  "kernelspec": {
   "display_name": "Python 3",
   "language": "python",
   "name": "python3"
  },
  "language_info": {
   "codemirror_mode": {
    "name": "ipython",
    "version": 3
   },
   "file_extension": ".py",
   "mimetype": "text/x-python",
   "name": "python",
   "nbconvert_exporter": "python",
   "pygments_lexer": "ipython3",
   "version": "3.8.5"
  }
 },
 "nbformat": 4,
 "nbformat_minor": 4
}
