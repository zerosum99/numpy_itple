{
 "cells": [
  {
   "cell_type": "markdown",
   "metadata": {},
   "source": [
    "## Q1) d.flat = [i for _, i in z]에서  '_'의 의미는?  \n",
    "해당 코드에서 언더스코어의 사용은 변수를 지정해야 하는데, 특별히 나중에 쓸일이 없는 변수를 할당해야 해서 사용됨.  \n",
    "일반적으로 변수는 코드에서 의미를 가지거나, 협업시 가독이 필요하게 명명해야 하나, 이경우에는 그냥 할당만 하는 목적이므로 언더스코어를 사용함. \n",
    "\n",
    "## Q2) np.einsum(\"ij→ji\", a) 이 명령어의 의미는?  \n",
    "a.T 와 같은의미임. 행과열을 열과행으로 바꿈. "
   ]
  }
 ],
 "metadata": {
  "kernelspec": {
   "display_name": "Python 3",
   "language": "python",
   "name": "python3"
  },
  "language_info": {
   "codemirror_mode": {
    "name": "ipython",
    "version": 3
   },
   "file_extension": ".py",
   "mimetype": "text/x-python",
   "name": "python",
   "nbconvert_exporter": "python",
   "pygments_lexer": "ipython3",
   "version": "3.7.5"
  }
 },
 "nbformat": 4,
 "nbformat_minor": 4
}
