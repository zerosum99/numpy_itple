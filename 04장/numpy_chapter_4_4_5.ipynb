{
 "cells": [
  {
   "cell_type": "code",
   "execution_count": 1,
   "metadata": {},
   "outputs": [],
   "source": [
    "import numpy as np"
   ]
  },
  {
   "cell_type": "code",
   "execution_count": 2,
   "metadata": {},
   "outputs": [
    {
     "data": {
      "text/plain": [
       "'1.18.2'"
      ]
     },
     "execution_count": 2,
     "metadata": {},
     "output_type": "execute_result"
    }
   ],
   "source": [
    "np.__version__"
   ]
  },
  {
   "cell_type": "markdown",
   "metadata": {},
   "source": [
    "## 예제 4-4-5-1 의사 역행렬"
   ]
  },
  {
   "cell_type": "code",
   "execution_count": 3,
   "metadata": {},
   "outputs": [
    {
     "name": "stdout",
     "output_type": "stream",
     "text": [
      " pinv(*args, **kwargs)\n",
      "\n",
      "Compute the (Moore-Penrose) pseudo-inverse of a matrix.\n",
      "\n",
      "Calculate the generalized inverse of a matrix using its\n",
      "singular-value decomposition (SVD) and including all\n",
      "*large* singular values.\n",
      "\n",
      ".. versionchanged:: 1.14\n",
      "   Can now operate on stacks of matrices\n",
      "\n",
      "Parameters\n",
      "----------\n",
      "a : (..., M, N) array_like\n",
      "    Matrix or stack of matrices to be pseudo-inverted.\n",
      "rcond : (...) array_like of float\n",
      "    Cutoff for small singular values.\n",
      "    Singular values less than or equal to\n",
      "    ``rcond * largest_singular_value`` are set to zero.\n",
      "    Broadcasts against the stack of matrices.\n",
      "hermitian : bool, optional\n",
      "    If True, `a` is assumed to be Hermitian (symmetric if real-valued),\n",
      "    enabling a more efficient method for finding singular values.\n",
      "    Defaults to False.\n",
      "\n",
      "    .. versionadded:: 1.17.0\n",
      "\n",
      "Returns\n",
      "-------\n",
      "B : (..., N, M) ndarray\n",
      "    The pseudo-inverse of `a`. If `a` is a `matrix` instance, then so\n",
      "    is `B`.\n",
      "\n",
      "Raises\n",
      "------\n",
      "LinAlgError\n",
      "    If the SVD computation does not converge.\n",
      "\n",
      "Notes\n",
      "-----\n",
      "The pseudo-inverse of a matrix A, denoted :math:`A^+`, is\n",
      "defined as: \"the matrix that 'solves' [the least-squares problem]\n",
      ":math:`Ax = b`,\" i.e., if :math:`\\bar{x}` is said solution, then\n",
      ":math:`A^+` is that matrix such that :math:`\\bar{x} = A^+b`.\n",
      "\n",
      "It can be shown that if :math:`Q_1 \\Sigma Q_2^T = A` is the singular\n",
      "value decomposition of A, then\n",
      ":math:`A^+ = Q_2 \\Sigma^+ Q_1^T`, where :math:`Q_{1,2}` are\n",
      "orthogonal matrices, :math:`\\Sigma` is a diagonal matrix consisting\n",
      "of A's so-called singular values, (followed, typically, by\n",
      "zeros), and then :math:`\\Sigma^+` is simply the diagonal matrix\n",
      "consisting of the reciprocals of A's singular values\n",
      "(again, followed by zeros). [1]_\n",
      "\n",
      "References\n",
      "----------\n",
      ".. [1] G. Strang, *Linear Algebra and Its Applications*, 2nd Ed., Orlando,\n",
      "       FL, Academic Press, Inc., 1980, pp. 139-142.\n",
      "\n",
      "Examples\n",
      "--------\n",
      "The following example checks that ``a * a+ * a == a`` and\n",
      "``a+ * a * a+ == a+``:\n",
      "\n",
      ">>> a = np.random.randn(9, 6)\n",
      ">>> B = np.linalg.pinv(a)\n",
      ">>> np.allclose(a, np.dot(a, np.dot(B, a)))\n",
      "True\n",
      ">>> np.allclose(B, np.dot(B, np.dot(a, B)))\n",
      "True\n"
     ]
    }
   ],
   "source": [
    "np.info(np.linalg.pinv)"
   ]
  },
  {
   "cell_type": "code",
   "execution_count": 4,
   "metadata": {},
   "outputs": [],
   "source": [
    "a = np.ones((3,3))"
   ]
  },
  {
   "cell_type": "code",
   "execution_count": 5,
   "metadata": {},
   "outputs": [
    {
     "data": {
      "text/plain": [
       "0.0"
      ]
     },
     "execution_count": 5,
     "metadata": {},
     "output_type": "execute_result"
    }
   ],
   "source": [
    "np.linalg.det(a)"
   ]
  },
  {
   "cell_type": "code",
   "execution_count": 6,
   "metadata": {},
   "outputs": [
    {
     "data": {
      "text/plain": [
       "array([[0.11111111, 0.11111111, 0.11111111],\n",
       "       [0.11111111, 0.11111111, 0.11111111],\n",
       "       [0.11111111, 0.11111111, 0.11111111]])"
      ]
     },
     "execution_count": 6,
     "metadata": {},
     "output_type": "execute_result"
    }
   ],
   "source": [
    "np.linalg.pinv(a)"
   ]
  },
  {
   "cell_type": "code",
   "execution_count": null,
   "metadata": {},
   "outputs": [],
   "source": []
  },
  {
   "cell_type": "code",
   "execution_count": 7,
   "metadata": {},
   "outputs": [
    {
     "name": "stdout",
     "output_type": "stream",
     "text": [
      "Singular matrix\n"
     ]
    }
   ],
   "source": [
    "try :\n",
    "    np.linalg.inv(a) \n",
    "except Exception as e :\n",
    "    print(e)"
   ]
  },
  {
   "cell_type": "code",
   "execution_count": null,
   "metadata": {},
   "outputs": [],
   "source": []
  }
 ],
 "metadata": {
  "kernelspec": {
   "display_name": "Python 3",
   "language": "python",
   "name": "python3"
  },
  "language_info": {
   "codemirror_mode": {
    "name": "ipython",
    "version": 3
   },
   "file_extension": ".py",
   "mimetype": "text/x-python",
   "name": "python",
   "nbconvert_exporter": "python",
   "pygments_lexer": "ipython3",
   "version": "3.7.6"
  }
 },
 "nbformat": 4,
 "nbformat_minor": 2
}
