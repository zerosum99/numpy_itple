{
 "cells": [
  {
   "cell_type": "code",
   "execution_count": 1,
   "metadata": {},
   "outputs": [],
   "source": [
    "import numpy as np"
   ]
  },
  {
   "cell_type": "code",
   "execution_count": 2,
   "metadata": {},
   "outputs": [
    {
     "data": {
      "text/plain": [
       "'1.15.4'"
      ]
     },
     "execution_count": 2,
     "metadata": {},
     "output_type": "execute_result"
    }
   ],
   "source": [
    "np.__version__"
   ]
  },
  {
   "cell_type": "code",
   "execution_count": null,
   "metadata": {},
   "outputs": [],
   "source": []
  },
  {
   "cell_type": "markdown",
   "metadata": {},
   "source": [
    "##  예제 6-3-3  문자 배열 알아보기"
   ]
  },
  {
   "cell_type": "code",
   "execution_count": 3,
   "metadata": {},
   "outputs": [
    {
     "name": "stdout",
     "output_type": "stream",
     "text": [
      "T, all, any, argmax, argmin, argpartition, argsort, \n",
      "astype, base, byteswap, capitalize, center, choose, clip, \n",
      "compress, conj, conjugate, copy, count, ctypes, cumprod, \n",
      "cumsum, data, decode, diagonal, dot, dtype, dump, \n",
      "dumps, encode, endswith, expandtabs, fill, find, flags, \n",
      "flat, flatten, getfield, imag, index, isalnum, isalpha, \n",
      "isdecimal, isdigit, islower, isnumeric, isspace, istitle, isupper, \n",
      "item, itemset, itemsize, join, ljust, lower, lstrip, \n",
      "max, mean, min, nbytes, ndim, newbyteorder, nonzero, \n",
      "partition, prod, ptp, put, ravel, real, repeat, \n",
      "replace, reshape, resize, rfind, rindex, rjust, round, \n",
      "rpartition, rsplit, rstrip, searchsorted, setfield, setflags, shape, \n",
      "size, sort, split, splitlines, squeeze, startswith, std, \n",
      "strides, strip, sum, swapaxes, swapcase, take, title, \n",
      "tobytes, tofile, tolist, tostring, trace, translate, transpose, \n",
      "upper, var, view, zfill, "
     ]
    }
   ],
   "source": [
    "count = 0 \n",
    "for i in  dir(np.chararray) :\n",
    "    if not i.startswith('_') :\n",
    "        count += 1\n",
    "        print(i,end=\", \")\n",
    "        if count % 7 == 0 :\n",
    "            print()"
   ]
  },
  {
   "cell_type": "code",
   "execution_count": 9,
   "metadata": {},
   "outputs": [],
   "source": [
    "c = set(dir(np.chararray))"
   ]
  },
  {
   "cell_type": "code",
   "execution_count": 10,
   "metadata": {},
   "outputs": [],
   "source": [
    "a = set(dir(np.ndarray))"
   ]
  },
  {
   "cell_type": "code",
   "execution_count": 12,
   "metadata": {},
   "outputs": [],
   "source": [
    "m = c - a"
   ]
  },
  {
   "cell_type": "code",
   "execution_count": 13,
   "metadata": {},
   "outputs": [
    {
     "name": "stdout",
     "output_type": "stream",
     "text": [
      "find, startswith, decode, isupper, encode, endswith, lower, \n",
      "zfill, isalpha, isnumeric, splitlines, index, lstrip, istitle, \n",
      "capitalize, split, isspace, isdecimal, rindex, title, join, \n",
      "translate, center, ljust, rfind, count, replace, swapcase, \n",
      "rjust, isdigit, rsplit, rpartition, islower, expandtabs, upper, \n",
      "strip, isalnum, rstrip, "
     ]
    }
   ],
   "source": [
    "count = 0 \n",
    "for i in  m :\n",
    "    if not i.startswith('_') :\n",
    "        count += 1\n",
    "        print(i,end=\", \")\n",
    "        if count % 7 == 0 :\n",
    "            print()"
   ]
  },
  {
   "cell_type": "code",
   "execution_count": null,
   "metadata": {},
   "outputs": [],
   "source": []
  },
  {
   "cell_type": "code",
   "execution_count": 8,
   "metadata": {},
   "outputs": [],
   "source": [
    "charar = np.chararray((3, 3))"
   ]
  },
  {
   "cell_type": "code",
   "execution_count": 9,
   "metadata": {},
   "outputs": [
    {
     "data": {
      "text/plain": [
       "chararray([[b'0', b'\\xd6', b'm'],\n",
       "           [b'\\xf1', '', b'\\x02'],\n",
       "           ['', '', '']], dtype='|S1')"
      ]
     },
     "execution_count": 9,
     "metadata": {},
     "output_type": "execute_result"
    }
   ],
   "source": [
    "charar"
   ]
  },
  {
   "cell_type": "code",
   "execution_count": 10,
   "metadata": {},
   "outputs": [],
   "source": [
    "charar[:] = 'a'"
   ]
  },
  {
   "cell_type": "code",
   "execution_count": 11,
   "metadata": {},
   "outputs": [
    {
     "data": {
      "text/plain": [
       "chararray([[b'a', b'a', b'a'],\n",
       "           [b'a', b'a', b'a'],\n",
       "           [b'a', b'a', b'a']], dtype='|S1')"
      ]
     },
     "execution_count": 11,
     "metadata": {},
     "output_type": "execute_result"
    }
   ],
   "source": [
    "charar"
   ]
  },
  {
   "cell_type": "code",
   "execution_count": null,
   "metadata": {},
   "outputs": [],
   "source": []
  },
  {
   "cell_type": "code",
   "execution_count": 12,
   "metadata": {},
   "outputs": [],
   "source": [
    "charar1 = np.chararray(charar.shape, itemsize=5)"
   ]
  },
  {
   "cell_type": "code",
   "execution_count": 13,
   "metadata": {},
   "outputs": [
    {
     "data": {
      "text/plain": [
       "chararray([['', '', ''],\n",
       "           ['', '', ''],\n",
       "           ['', '', '']], dtype='|S5')"
      ]
     },
     "execution_count": 13,
     "metadata": {},
     "output_type": "execute_result"
    }
   ],
   "source": [
    "charar1"
   ]
  },
  {
   "cell_type": "code",
   "execution_count": 14,
   "metadata": {},
   "outputs": [],
   "source": [
    "charar1[:] = 'abc'"
   ]
  },
  {
   "cell_type": "code",
   "execution_count": 15,
   "metadata": {},
   "outputs": [
    {
     "data": {
      "text/plain": [
       "chararray([[b'abc', b'abc', b'abc'],\n",
       "           [b'abc', b'abc', b'abc'],\n",
       "           [b'abc', b'abc', b'abc']], dtype='|S5')"
      ]
     },
     "execution_count": 15,
     "metadata": {},
     "output_type": "execute_result"
    }
   ],
   "source": [
    "charar1"
   ]
  },
  {
   "cell_type": "code",
   "execution_count": null,
   "metadata": {},
   "outputs": [],
   "source": []
  },
  {
   "cell_type": "code",
   "execution_count": 16,
   "metadata": {},
   "outputs": [
    {
     "data": {
      "text/plain": [
       "chararray([[b'Abc', b'Abc', b'Abc'],\n",
       "           [b'Abc', b'Abc', b'Abc'],\n",
       "           [b'Abc', b'Abc', b'Abc']], dtype='|S5')"
      ]
     },
     "execution_count": 16,
     "metadata": {},
     "output_type": "execute_result"
    }
   ],
   "source": [
    "charar1.capitalize()"
   ]
  },
  {
   "cell_type": "code",
   "execution_count": 17,
   "metadata": {},
   "outputs": [
    {
     "data": {
      "text/plain": [
       "chararray([['abc', 'abc', 'abc'],\n",
       "           ['abc', 'abc', 'abc'],\n",
       "           ['abc', 'abc', 'abc']], dtype='<U5')"
      ]
     },
     "execution_count": 17,
     "metadata": {},
     "output_type": "execute_result"
    }
   ],
   "source": [
    "charar1.astype(np.str_)"
   ]
  },
  {
   "cell_type": "code",
   "execution_count": null,
   "metadata": {},
   "outputs": [],
   "source": []
  },
  {
   "cell_type": "code",
   "execution_count": null,
   "metadata": {},
   "outputs": [],
   "source": []
  }
 ],
 "metadata": {
  "kernelspec": {
   "display_name": "Python 3",
   "language": "python",
   "name": "python3"
  },
  "language_info": {
   "codemirror_mode": {
    "name": "ipython",
    "version": 3
   },
   "file_extension": ".py",
   "mimetype": "text/x-python",
   "name": "python",
   "nbconvert_exporter": "python",
   "pygments_lexer": "ipython3",
   "version": "3.6.7"
  }
 },
 "nbformat": 4,
 "nbformat_minor": 2
}
